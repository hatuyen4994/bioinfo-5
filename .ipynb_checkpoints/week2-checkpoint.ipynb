{
 "cells": [
  {
   "cell_type": "code",
   "execution_count": 1,
   "metadata": {},
   "outputs": [],
   "source": [
    "import numpy as np\n",
    "import bioinfo4 as bio"
   ]
  },
  {
   "cell_type": "markdown",
   "metadata": {},
   "source": [
    "# Ultrametric Evolutionary Trees"
   ]
  },
  {
   "cell_type": "markdown",
   "metadata": {},
   "source": [
    " ```R\n",
    "UPGMA(D, n) \n",
    "       ",
    "Clusters ← n single-element clusters labeled 1, ... , n\n",
    "      ",
    " construct a graph T with n isolated nodes labeled by single elements 1, ... , n\n",
    "    for every node v in T \n",
    "        Age(v) ← 0\n",
    "    while there is more than one cluster\n",
    "        find the two closest clusters Ci and Cj ",
    " \n",
    "        merge Ci and Cj into a new cluster Cnew with |Ci| + |Cj| elements\n",
    "        add a new node labeled by cluster Cnew to T\n",
    "        connect node Cnew to Ci and Cj by directed edges ",
    " \n",
    "        Age(Cnew) ← DCi, Cj / 2\n",
    "        remove the rows and columns of D corresponding to Ci and Cj ",
    "\n",
    "        remove Ci and Cj from Clusters ",
    "\n",
    "        add a row/column to D for Cnew by computing D(Cnew, C) for each C in Clusters\n",
    "        add Cnew to Clusters\n",
    "    root ← the node in T corresponding to the remaining cluster\n",
    "    for each edge (v, w) in T\n",
    "        length of (v, w) ← Age(v) - Age(w)\n",
    "    return T\n",
    "```"
   ]
  },
  {
   "cell_type": "code",
   "execution_count": 14,
   "metadata": {},
   "outputs": [],
   "source": [
    "def input_to_D_array(ip):\n",
    "    ip = ip.strip()\n",
    "    ip = ip.split('\\n')\n",
    "    n = int(ip.pop(0))\n",
    "    D_array = np.zeros((n,n))\n",
    "    try:\n",
    "        for i,row in enumerate(ip):\n",
    "            D_array[i] = [float(k) for k in row.strip().split(\" \")]\n",
    "    except:\n",
    "        for i,row in enumerate(ip):\n",
    "            D_array[i] = [float(k) for k in row.strip().split(\"\\t\")]\n",
    "    return D_array\n",
    "\n",
    "def D_array_to_dict(D_array):\n",
    "    n = D_array.shape[0]\n",
    "    D_dict = {}\n",
    "    for i in range(n-1):\n",
    "        for k in range(i+1, n):\n",
    "            D_dict[f\"{i}-{k}\"] = D_array[i,k]\n",
    "    return D_dict\n",
    "\n",
    "def input_to_D_dict(ip):\n",
    "    D_array = input_to_D_array(ip)\n",
    "    return D_array_to_dict(D_array)\n",
    "\n",
    "def find_closest_clusters(D_dict):\n",
    "    return min(D_dict.keys(), key=(lambda k: D_dict[k]))"
   ]
  },
  {
   "cell_type": "code",
   "execution_count": 42,
   "metadata": {},
   "outputs": [],
   "source": [
    "def UPGMA(D_array,n,nn_count =None):\n",
    "    D_dict = D_array_to_dict(D_array)\n",
    "\n",
    "    Clusters = {}\n",
    "        #For Hierachical Clustering\n",
    "    New_Old = {}\n",
    "    Hierachical_clusters = []\n",
    "        #---------------\n",
    "    \n",
    "    for i in range(n):\n",
    "        Clusters[str(i)] = [str(i)]\n",
    "        New_Old[i] = [i]\n",
    "    Clusters_ref = Clusters.copy()\n",
    "\n",
    "    T = {}\n",
    "\n",
    "    Age = {}\n",
    "    for node in Clusters:\n",
    "        Age[node] = 0\n",
    "    if nn_count == None:\n",
    "        nn_count = 1\n",
    "    while len(Clusters) > 2 :\n",
    "\n",
    "        # find closest clusters\n",
    "        closest_clusters = find_closest_clusters(D_dict)\n",
    "        cluster_1, cluster_2 = closest_clusters.split(\"-\")\n",
    "        if closest_clusters in D_dict:\n",
    "            closest_distance = D_dict[closest_clusters]\n",
    "        #update Distance and Clusters\n",
    "        del D_dict[f\"{cluster_1}-{cluster_2}\"], Clusters[cluster_1], Clusters[cluster_2]\n",
    "\n",
    "        #new_node = f\"{cluster_1},{cluster_2}\"\n",
    "        new_node = str(n - 1 + nn_count)\n",
    "        nn_count += 1\n",
    "        Clusters_ref[new_node] = Clusters_ref[cluster_1] + Clusters_ref[cluster_2]\n",
    "            \n",
    "            #For Hierachical Clustering\n",
    "        New_Old[int(new_node)] = New_Old[int(cluster_1)] + New_Old[int(cluster_2)]\n",
    "        Hierachical_clusters.append([str(i + 1) for i in New_Old[int(new_node)]])\n",
    "            #------------------------\n",
    "\n",
    "        #Merge 2 cluster and update distance\n",
    "        for i in Clusters:\n",
    "            if f\"{i}-{cluster_1}\" in D_dict:\n",
    "                Di_to_cluster1 = D_dict[f\"{i}-{cluster_1}\"].copy()\n",
    "                del D_dict[f\"{i}-{cluster_1}\"]\n",
    "            else:\n",
    "                Di_to_cluster1 = D_dict[f\"{cluster_1}-{i}\"]\n",
    "                del D_dict[f\"{cluster_1}-{i}\"]\n",
    "\n",
    "            if f\"{i}-{cluster_2}\" in D_dict:\n",
    "                Di_to_cluster2 = D_dict[f\"{i}-{cluster_2}\"].copy()\n",
    "                del D_dict[f\"{i}-{cluster_2}\"]\n",
    "            else:\n",
    "                Di_to_cluster2 = D_dict[f\"{cluster_2}-{i}\"]\n",
    "                del D_dict[f\"{cluster_2}-{i}\"]\n",
    "\n",
    "            Di_new_node = (\n",
    "                            (Di_to_cluster1*len(Clusters_ref[cluster_1]))+\n",
    "                           (Di_to_cluster2*len(Clusters_ref[cluster_2]))\n",
    "                           )/(len(Clusters_ref[cluster_1])+len(Clusters_ref[cluster_2]))    \n",
    "\n",
    "            D_dict[f\"{i}-{new_node}\"] = Di_new_node\n",
    "\n",
    "        Clusters[new_node] = Clusters_ref[cluster_1] + Clusters_ref[cluster_2]\n",
    "\n",
    "        # update age, add new node to T and connect new node \n",
    "        Age[new_node] = closest_distance/2\n",
    "        new_edge = f\"{new_node}->{cluster_1}\"\n",
    "        edge_length = Age[new_node]- Age[cluster_1]\n",
    "        T = bio.AddEdge2T(T,new_edge,edge_length)\n",
    "\n",
    "        new_edge = f\"{new_node}->{cluster_2}\"\n",
    "        edge_length = Age[new_node]- Age[cluster_2]\n",
    "        T = bio.AddEdge2T(T,new_edge,edge_length)\n",
    "\n",
    "\n",
    "\n",
    "    root =str(n - 1 + nn_count)\n",
    "    closest_clusters = find_closest_clusters(D_dict)\n",
    "    closest_distance = D_dict[closest_clusters]\n",
    "    cluster_1, cluster_2 = closest_clusters.split(\"-\")\n",
    "    \n",
    "        #For Hierachical Clustering\n",
    "    New_Old[int(root)] = New_Old[int(cluster_1)] + New_Old[int(cluster_2)]\n",
    "    Hierachical_clusters.append([str(i + 1) for i in New_Old[int(root)]])\n",
    "        #-----------------\n",
    "    \n",
    "    Age[root] = D_dict[find_closest_clusters(D_dict)]/2\n",
    "    new_edge = f\"{root}->{cluster_1}\"\n",
    "    edge_length = Age[root]- Age[cluster_1]\n",
    "    T = bio.AddEdge2T(T,new_edge,edge_length)\n",
    "\n",
    "    new_edge = f\"{root}->{cluster_2}\"\n",
    "    edge_length = Age[root]- Age[cluster_2]\n",
    "    T = bio.AddEdge2T(T,new_edge,edge_length)\n",
    "    T = {k:v for k,v in sorted(T.items(),key=(lambda item: int(item[0].split(\"->\")[0])))}\n",
    "\n",
    "    return T,Hierachical_clusters"
   ]
  },
  {
   "cell_type": "code",
   "execution_count": 9,
   "metadata": {},
   "outputs": [],
   "source": [
    "ip = \"\"\"\n",
    "4\n",
    "0\t20\t17\t11\n",
    "20\t0\t20\t13\n",
    "17\t20\t0\t10\n",
    "11\t13\t10\t0\n",
    "\"\"\""
   ]
  },
  {
   "cell_type": "code",
   "execution_count": 5,
   "metadata": {},
   "outputs": [],
   "source": [
    "ip = \"\"\"\n",
    "4\n",
    "0\t3\t4\t3\n",
    "3\t0\t4\t5\n",
    "4\t4\t0\t2\n",
    "3\t5\t2\t0\n",
    "\"\"\""
   ]
  },
  {
   "cell_type": "code",
   "execution_count": 12,
   "metadata": {},
   "outputs": [],
   "source": [
    "ip = \"\"\"7\n",
    "0.00 0.74 0.85 0.54 0.83 0.92 0.89\n",
    "0.74 0.00 1.59 1.35 1.20 1.48 1.55\n",
    "0.85 1.59 0.00 0.63 1.13 0.69 0.73\n",
    "0.54 1.35 0.63 0.00 0.66 0.43 0.88\n",
    "0.83 1.20 1.13 0.66 0.00 0.72 0.55\n",
    "0.92 1.48 0.69 0.43 0.72 0.00 0.80\n",
    "0.89 1.55 0.73 0.88 0.55 0.80 0.00\"\"\""
   ]
  },
  {
   "cell_type": "code",
   "execution_count": 40,
   "metadata": {},
   "outputs": [
    {
     "data": {
      "text/plain": [
       "array([[0.  , 0.74, 0.85, 0.54, 0.83, 0.92, 0.89],\n",
       "       [0.74, 0.  , 1.59, 1.35, 1.2 , 1.48, 1.55],\n",
       "       [0.85, 1.59, 0.  , 0.63, 1.13, 0.69, 0.73],\n",
       "       [0.54, 1.35, 0.63, 0.  , 0.66, 0.43, 0.88],\n",
       "       [0.83, 1.2 , 1.13, 0.66, 0.  , 0.72, 0.55],\n",
       "       [0.92, 1.48, 0.69, 0.43, 0.72, 0.  , 0.8 ],\n",
       "       [0.89, 1.55, 0.73, 0.88, 0.55, 0.8 , 0.  ]])"
      ]
     },
     "execution_count": 40,
     "metadata": {},
     "output_type": "execute_result"
    }
   ],
   "source": [
    "D_array = input_to_D_array(ip)\n",
    "D_array"
   ]
  },
  {
   "cell_type": "code",
   "execution_count": 29,
   "metadata": {
    "scrolled": true
   },
   "outputs": [],
   "source": [
    "D_array = input_to_D_array(ip)\n",
    "n = D_array.shape[0]\n"
   ]
  },
  {
   "cell_type": "code",
   "execution_count": 43,
   "metadata": {
    "scrolled": true
   },
   "outputs": [],
   "source": [
    "T, HC = UPGMA(D_array,n)"
   ]
  },
  {
   "cell_type": "code",
   "execution_count": 46,
   "metadata": {},
   "outputs": [
    {
     "ename": "TypeError",
     "evalue": "sequence item 0: expected str instance, int found",
     "output_type": "error",
     "traceback": [
      "\u001b[1;31m---------------------------------------------------------------------------\u001b[0m",
      "\u001b[1;31mTypeError\u001b[0m                                 Traceback (most recent call last)",
      "\u001b[1;32m<ipython-input-46-90656434a7c9>\u001b[0m in \u001b[0;36m<module>\u001b[1;34m\u001b[0m\n\u001b[0;32m      1\u001b[0m \u001b[1;32mfor\u001b[0m \u001b[0mcluster\u001b[0m \u001b[1;32min\u001b[0m \u001b[0mHC\u001b[0m\u001b[1;33m:\u001b[0m\u001b[1;33m\u001b[0m\u001b[1;33m\u001b[0m\u001b[0m\n\u001b[1;32m----> 2\u001b[1;33m     \u001b[0mprint\u001b[0m\u001b[1;33m(\u001b[0m\u001b[1;34m\" \"\u001b[0m\u001b[1;33m.\u001b[0m\u001b[0mjoin\u001b[0m\u001b[1;33m(\u001b[0m\u001b[0mcluster\u001b[0m\u001b[1;33m)\u001b[0m\u001b[1;33m)\u001b[0m\u001b[1;33m\u001b[0m\u001b[1;33m\u001b[0m\u001b[0m\n\u001b[0m",
      "\u001b[1;31mTypeError\u001b[0m: sequence item 0: expected str instance, int found"
     ]
    }
   ],
   "source": [
    "for cluster in HC:\n",
    "    print(\" \".join(cluster))"
   ]
  },
  {
   "cell_type": "code",
   "execution_count": 17,
   "metadata": {
    "scrolled": false
   },
   "outputs": [
    {
     "name": "stdout",
     "output_type": "stream",
     "text": [
      "0->10:0.370\n",
      "1->10:0.370\n",
      "2->9:0.330\n",
      "3->7:0.215\n",
      "4->8:0.275\n",
      "5->7:0.215\n",
      "6->8:0.275\n",
      "7->3:0.215\n",
      "7->5:0.215\n",
      "7->9:0.115\n",
      "8->4:0.275\n",
      "8->6:0.275\n",
      "8->11:0.135\n",
      "9->2:0.330\n",
      "9->7:0.115\n",
      "9->11:0.080\n",
      "10->0:0.370\n",
      "10->1:0.370\n",
      "10->12:0.190\n",
      "11->8:0.135\n",
      "11->9:0.080\n",
      "11->12:0.150\n",
      "12->10:0.190\n",
      "12->11:0.150\n"
     ]
    }
   ],
   "source": [
    "for edge, length in T.items():\n",
    "    print(f\"{edge}:{length:.3f}\")"
   ]
  },
  {
   "cell_type": "code",
   "execution_count": 9,
   "metadata": {},
   "outputs": [],
   "source": [
    "ip = \"\"\"\tCow\tPig\tHorse\tMouse\tDog\tCat\tTurkey\tCivet\tHuman\n",
    "Cow\t0\t295\t300\t524\t1077\t1080\t978\t941\t940\n",
    "Pig\t295\t0\t314\t487\t1071\t1088\t1010\t963\t966\n",
    "Horse\t300\t314\t0\t472\t1085\t1088\t1025\t965\t956\n",
    "Mouse\t524\t487\t472\t0\t1101\t1099\t1021\t962\t965\n",
    "Dog\t1076\t1070\t1085\t1101\t0\t818\t1053\t1057\t1054\n",
    "Cat\t1082\t1088\t1088\t1098\t818\t0\t1070\t1085\t1080\n",
    "Turkey\t976\t1011\t1025\t1021\t1053\t1070\t0\t963\t961\n",
    "Civet\t941\t963\t965\t962\t1057\t1085\t963\t0\t16\n",
    "Human\t940\t966\t956\t965\t1054\t1080\t961\t16\t0\"\"\"\n",
    "ip = ip.split(\"\\n\")\n",
    "species = ip.pop(0).strip().split(\"\\t\")\n",
    "n = len(species)\n",
    "D = np.zeros((n,n))\n",
    "for row,value in enumerate(ip):\n",
    "    D[row] = value.split(\"\\t\")[1:]"
   ]
  },
  {
   "cell_type": "code",
   "execution_count": 10,
   "metadata": {},
   "outputs": [
    {
     "data": {
      "text/plain": [
       "{'0->10': 147.5,\n",
       " '1->10': 147.5,\n",
       " '2->11': 153.5,\n",
       " '3->12': 247.16666666666666,\n",
       " '4->13': 409.0,\n",
       " '5->13': 409.0,\n",
       " '6->15': 496.5,\n",
       " '7->9': 8.0,\n",
       " '8->9': 8.0,\n",
       " '9->7': 8.0,\n",
       " '9->8': 8.0,\n",
       " '9->14': 470.625,\n",
       " '10->0': 147.5,\n",
       " '10->1': 147.5,\n",
       " '10->11': 6.0,\n",
       " '11->2': 153.5,\n",
       " '11->10': 6.0,\n",
       " '11->12': 93.66666666666666,\n",
       " '12->3': 247.16666666666666,\n",
       " '12->11': 93.66666666666666,\n",
       " '12->14': 231.45833333333334,\n",
       " '13->4': 409.0,\n",
       " '13->5': 409.0,\n",
       " '13->16': 129.8571428571429,\n",
       " '14->9': 470.625,\n",
       " '14->12': 231.45833333333334,\n",
       " '14->15': 17.875,\n",
       " '15->6': 496.5,\n",
       " '15->14': 17.875,\n",
       " '15->16': 42.35714285714289,\n",
       " '16->13': 129.8571428571429,\n",
       " '16->15': 42.35714285714289}"
      ]
     },
     "execution_count": 10,
     "metadata": {},
     "output_type": "execute_result"
    }
   ],
   "source": [
    "n = D.shape[0]\n",
    "UPGMA(D, n)"
   ]
  },
  {
   "cell_type": "markdown",
   "metadata": {},
   "source": [
    "# Neighbor joining matrix"
   ]
  },
  {
   "cell_type": "code",
   "execution_count": 123,
   "metadata": {},
   "outputs": [],
   "source": [
    "import copy\n"
   ]
  },
  {
   "cell_type": "code",
   "execution_count": 124,
   "metadata": {},
   "outputs": [],
   "source": [
    "def MkEdge(node1,node2):\n",
    "    return f\"{node1}->{node2}\"\n",
    "def RvEdge(edge):\n",
    "    node1,node2 = edge.split(\"->\")\n",
    "    return node2 + \"->\" + node1"
   ]
  },
  {
   "cell_type": "code",
   "execution_count": 215,
   "metadata": {},
   "outputs": [],
   "source": [
    "def FindTotalDistance(D_dict):\n",
    "    Total_distance = {}\n",
    "    for key in D_dict:\n",
    "        node1, node2 = key.split(\"-\")\n",
    "        if node1 in Total_distance :\n",
    "            Total_distance[node1] = Total_distance[node1] + D_dict[key]\n",
    "        else:\n",
    "            Total_distance[node1] = D_dict[key]\n",
    "\n",
    "        if node2 in Total_distance :\n",
    "            Total_distance[node2] = Total_distance[node2] + D_dict[key]\n",
    "        else:\n",
    "            Total_distance[node2] = D_dict[key]\n",
    "    return Total_distance\n",
    "\n",
    "def FindN(D_dict):\n",
    "    x = len(D_dict)\n",
    "    count = 1\n",
    "    while x > 0:\n",
    "        x -= count\n",
    "        count += 1\n",
    "    return count\n",
    "\n",
    "def NJD(D_dict, Total_distance = None):\n",
    "    if Total_distance == None:\n",
    "        Total_distance = FindTotalDistance(D_dict)\n",
    "    D_copy = D_dict.copy()\n",
    "    n = FindN(D_dict)\n",
    "    for key in D_copy:\n",
    "        node1,node2 = key.split(\"-\")\n",
    "        new_distance = (n-2)*D_dict[key] - Total_distance[node1] - Total_distance[node2]\n",
    "        D_copy[key] = new_distance\n",
    "    return D_copy\n",
    "\n",
    "def RemoveNode(D_dict,node):\n",
    "    D_copy = copy.deepcopy(D_dict)\n",
    "    keys = list(D_copy.keys())\n",
    "    for key in keys:\n",
    "        if node in key.split(\"-\"):\n",
    "            del D_copy[key]\n",
    "    return D_copy\n",
    "\n",
    "def FindDistance(D_dict,i,j):\n",
    "    try:\n",
    "        return D_dict[f\"{i}-{j}\"]\n",
    "    except:\n",
    "        return D_dict[f\"{j}-{i}\"]\n",
    "    \n",
    "def SortTree(T):\n",
    "    T = {k:v for k,v in sorted(T.items(),key=(lambda item: item[0]))}\n",
    "    T = {k:v for k,v in sorted(T.items(),key=(lambda item: int(item[0].split(\"->\")[0])))}\n",
    "    return T"
   ]
  },
  {
   "cell_type": "markdown",
   "metadata": {},
   "source": [
    "```R\n",
    "NeighborJoining(D)\n",
    "    n ← number of rows in D\n",
    "    if n = 2\n",
    "        T ← tree consisting of a single edge of length D1,2\n",
    "        return T\n",
    "    D* ← neighbor-joining matrix constructed from the distance matrix D\n",
    "    find elements i and j such that D*i,j is a minimum non-diagonal element of D*\n",
    "    Δ ← (TotalDistanceD(i) - TotalDistanceD(j)) /(n - 2)\n",
    "    limbLengthi ← (1/2)(Di,j + Δ)\n",
    "    limbLengthj ← (1/2)(Di,j - Δ)\n",
    "    add a new row/column m to D so that Dk,m = Dm,k = (1/2)(Dk,i + Dk,j - Di,j) for any k\n",
    "    D ← D with rows i and j removed\n",
    "    D ← D with columns i and j removed\n",
    "    T ← NeighborJoining(D)\n",
    "    add two new limbs (connecting node m with leaves i and j) to the tree T\n",
    "    assign length limbLengthi to Limb(i)\n",
    "    assign length limbLengthj to Limb(j)\n",
    "    return T\n",
    "```"
   ]
  },
  {
   "cell_type": "code",
   "execution_count": 253,
   "metadata": {},
   "outputs": [],
   "source": [
    "def NeighborJoining(D_dict, rc_count=None):\n",
    "    D_dict = copy.deepcopy(D_dict)\n",
    "    ###recursive count and new node count \n",
    "\n",
    "    if rc_count == None:\n",
    "        rc_count = 0\n",
    "        global nn_count\n",
    "        nn_count = 0\n",
    "\n",
    "    else:\n",
    "        rc_count +=1\n",
    "    n = FindN(D_dict)\n",
    "    #base\n",
    "    if len(D_dict) == 1:\n",
    "        T = {}\n",
    "        #Make 2-node Tree\n",
    "        node1, node2 = list(D_dict.keys())[0].split(\"-\")\n",
    "        edge = MkEdge(node1,node2)\n",
    "        length = list(D_dict.values())[0]\n",
    "        length = round(length,3)\n",
    "        rv_edge = RvEdge(edge)\n",
    "        T[edge] = length\n",
    "        T[rv_edge] = length\n",
    "        return T\n",
    "    Total_distance = FindTotalDistance(D_dict)\n",
    "    NJD_dict = NJD(D_dict, Total_distance)\n",
    "    neighbors_ij = min(NJD_dict.keys(),key=(lambda k: NJD_dict[k]))\n",
    "    node_i, node_j = neighbors_ij.split(\"-\")\n",
    "    delta_ij = (Total_distance[node_i] - Total_distance[node_j])/(n-2)\n",
    "    limbLength_i = round((D_dict[neighbors_ij] + delta_ij)/2,3)\n",
    "    limbLength_j = round((D_dict[neighbors_ij] - delta_ij)/2,3)\n",
    "    #\n",
    "    new_node = str(n + rc_count + nn_count)\n",
    "    nn_count += 1\n",
    "    for node_k in Total_distance:\n",
    "        if node_k != node_i and node_k != node_j:\n",
    "            D_i_k = FindDistance(D_dict, node_i, node_k)\n",
    "            D_j_k = FindDistance(D_dict, node_j, node_k)\n",
    "            D_nn = D_dict[neighbors_ij]\n",
    "            D_k_nn = (D_i_k + D_j_k - D_nn)/2\n",
    "            D_dict[f\"{node_k}-{new_node}\"] = D_k_nn\n",
    "    #\n",
    "    D_dict = RemoveNode(D_dict,node_i)\n",
    "    D_dict = RemoveNode(D_dict,node_j)\n",
    "    \n",
    "    T = NeighborJoining(D_dict,rc_count)\n",
    "    \n",
    "    #\n",
    "    edge1 = MkEdge(new_node, node_i)\n",
    "    rv_edge1 = RvEdge(edge1)\n",
    "    T[edge1] = limbLength_i\n",
    "    T[rv_edge1] = limbLength_i\n",
    "\n",
    "    edge2 = MkEdge(new_node, node_j)\n",
    "    rv_edge2 = RvEdge(edge2)\n",
    "    T[edge2] = limbLength_j\n",
    "    T[rv_edge2] = limbLength_j\n",
    "    \n",
    "    return T"
   ]
  },
  {
   "cell_type": "code",
   "execution_count": 130,
   "metadata": {},
   "outputs": [],
   "source": [
    "ip = \"\"\"4\n",
    "0\t23\t27\t20\n",
    "23\t0\t30\t28\n",
    "27\t30\t0\t30\n",
    "20\t28\t30\t0\"\"\""
   ]
  },
  {
   "cell_type": "code",
   "execution_count": 261,
   "metadata": {},
   "outputs": [],
   "source": [
    "ip = \"\"\"4\n",
    "0\t14\t17\t17\n",
    "14\t0\t7\t13\n",
    "17\t7\t0\t16\n",
    "17\t13\t16\t0\"\"\""
   ]
  },
  {
   "cell_type": "code",
   "execution_count": 254,
   "metadata": {},
   "outputs": [],
   "source": [
    "ip = \"\"\"32\n",
    "0 1346 1088 1183 1139 1029 1299 1727 1872 1659 1076 1459 1597 1381 1785 1893 1215 1047 1883 1925 1975 1579 1249 1604 1283 1090 1643 1349 1501 1782 1226 1165 \n",
    "1346 0 1617 1266 1757 1125 1791 1557 1718 1531 2004 1769 1884 1429 1832 1564 1980 1191 1690 1377 1724 2001 1658 1288 1529 1169 1498 1310 1058 2007 1327 1685 \n",
    "1088 1617 0 1795 1260 1809 1261 1565 1485 1732 1424 1281 1997 1687 1571 1694 2033 2043 1974 1958 1607 1608 1987 1385 1096 1834 2036 1225 1520 1180 1850 1983 \n",
    "1183 1266 1795 0 1790 1567 1301 1621 1965 1671 1765 1290 2044 1080 1566 1670 1950 1331 1855 1909 1171 1535 1306 1167 1544 1408 1845 1830 2041 1145 1210 1397 \n",
    "1139 1757 1260 1790 0 1033 1113 1515 1093 1656 1781 1652 1361 1371 1612 1961 1523 1275 1111 1763 1149 1278 1602 1142 1363 1837 1864 1869 1248 1119 1365 1903 \n",
    "1029 1125 1809 1567 1033 0 2002 1156 1518 1469 1572 1947 1839 1660 1537 1835 2000 1416 1849 1091 1816 1298 1610 1317 1155 1292 1684 1316 1712 1359 1541 1716 \n",
    "1299 1791 1261 1301 1113 2002 0 1273 1504 1434 1852 1595 1923 1649 1044 1928 1031 1293 1695 1726 1897 1176 1982 1190 1186 1582 1187 1630 1110 1748 1988 1971 \n",
    "1727 1557 1565 1621 1515 1156 1273 0 1025 1420 1229 1525 1558 1475 1820 2027 1934 1158 1252 1742 1218 1770 1984 1362 1588 2015 1825 1948 1536 1136 1314 1409 \n",
    "1872 1718 1485 1965 1093 1518 1504 1025 0 1143 1103 1973 1422 1262 1655 1412 1569 1039 1706 2008 1321 1560 1427 1154 1574 1799 1913 1483 1199 1401 1989 1502 \n",
    "1659 1531 1732 1671 1656 1469 1434 1420 1143 0 1436 1703 1296 1396 1755 1036 1184 1917 1144 1966 1915 1419 1900 1738 1648 1624 1599 1400 1464 1207 1473 1486 \n",
    "1076 2004 1424 1765 1781 1572 1852 1229 1103 1436 0 1304 1591 1797 1493 1120 1060 1390 1479 1451 1402 1085 1300 1905 1752 1027 1470 1448 1495 1589 1089 1697 \n",
    "1459 1769 1281 1290 1652 1947 1595 1525 1973 1703 1304 0 1779 1303 1688 1421 1743 1637 1810 1073 1203 1749 1393 1269 1807 1492 1214 1192 1540 1064 1389 2040 \n",
    "1597 1884 1997 2044 1361 1839 1923 1558 1422 1296 1591 1779 0 1116 1863 1568 1094 1940 1387 1600 1861 1995 1885 1152 1326 1879 1868 1750 1731 1461 1682 1737 \n",
    "1381 1429 1687 1080 1371 1660 1649 1475 1262 1396 1797 1303 1116 0 1812 1661 1439 1423 1028 1761 2029 1270 1548 1336 1413 1372 1640 1904 2018 1841 1728 1228 \n",
    "1785 1832 1571 1566 1612 1537 1044 1820 1655 1755 1493 1688 1863 1812 0 1482 1127 1798 1067 1946 1445 1471 2047 2031 1263 1689 1786 1179 1527 1901 1645 1833 \n",
    "1893 1564 1694 1670 1961 1835 1928 2027 1412 1036 1120 1421 1568 1661 1482 0 1160 1130 1181 1098 1516 2039 1201 1960 1146 1350 1066 1311 1410 1392 1874 1631 \n",
    "1215 1980 2033 1950 1523 2000 1031 1934 1569 1184 1060 1743 1094 1439 1127 1160 0 1744 1236 1677 1562 1291 1764 1821 1082 1264 1095 1070 1686 1848 1681 1700 \n",
    "1047 1191 2043 1331 1275 1416 1293 1158 1039 1917 1390 1637 1940 1423 1798 1130 1744 0 1309 1609 1644 1808 1514 1453 1294 1622 1586 1195 1487 1991 1877 1642 \n",
    "1883 1690 1974 1855 1111 1849 1695 1252 1706 1144 1479 1810 1387 1028 1067 1181 1236 1309 0 1175 1937 2020 1708 1663 1166 1886 1509 2009 1920 1041 1977 1438 \n",
    "1925 1377 1958 1909 1763 1091 1726 1742 2008 1966 1451 1073 1600 1761 1946 1098 1677 1609 1175 0 2012 1641 1867 1710 1198 1351 1693 1842 1907 1996 1875 2003 \n",
    "1975 1724 1607 1171 1149 1816 1897 1218 1321 1915 1402 1203 1861 2029 1445 1516 1562 1644 1937 2012 0 1132 1277 1050 1618 1030 1702 1889 1715 1234 1357 1592 \n",
    "1579 2001 1608 1535 1278 1298 1176 1770 1560 1419 1085 1749 1995 1270 1471 2039 1291 1808 2020 1641 1132 0 1159 1212 1583 1871 1494 1053 1055 1335 2022 1623 \n",
    "1249 1658 1987 1306 1602 1610 1982 1984 1427 1900 1300 1393 1885 1548 2047 1201 1764 1514 1708 1867 1277 1159 0 1729 1255 1450 1680 1284 1605 1906 1851 1632 \n",
    "1604 1288 1385 1167 1142 1317 1190 1362 1154 1738 1905 1269 1152 1336 2031 1960 1821 1453 1663 1710 1050 1212 1729 0 1554 1853 1994 1129 1202 1508 1312 1657 \n",
    "1283 1529 1096 1544 1363 1155 1186 1588 1574 1648 1752 1807 1326 1413 1263 1146 1082 1294 1166 1198 1618 1583 1255 1554 0 1100 1259 1407 1814 1754 1051 1107 \n",
    "1090 1169 1834 1408 1837 1292 1582 2015 1799 1624 1027 1492 1879 1372 1689 1350 1264 1622 1886 1351 1030 1871 1450 1853 1100 0 1131 1801 1705 1394 1442 1322 \n",
    "1643 1498 2036 1845 1864 1684 1187 1825 1913 1599 1470 1214 1868 1640 1786 1066 1095 1586 1509 1693 1702 1494 1680 1994 1259 1131 0 1308 1478 1629 1037 1140 \n",
    "1349 1310 1225 1830 1869 1316 1630 1948 1483 1400 1448 1192 1750 1904 1179 1311 1070 1195 2009 1842 1889 1053 1284 1129 1407 1801 1308 0 1034 1620 1914 1083 \n",
    "1501 1058 1520 2041 1248 1712 1110 1536 1199 1464 1495 1540 1731 2018 1527 1410 1686 1487 1920 1907 1715 1055 1605 1202 1814 1705 1478 1034 0 1217 1244 1811 \n",
    "1782 2007 1180 1145 1119 1359 1748 1136 1401 1207 1589 1064 1461 1841 1901 1392 1848 1991 1041 1996 1234 1335 1906 1508 1754 1394 1629 1620 1217 0 1521 1692 \n",
    "1226 1327 1850 1210 1365 1541 1988 1314 1989 1473 1089 1389 1682 1728 1645 1874 1681 1877 1977 1875 1357 2022 1851 1312 1051 1442 1037 1914 1244 1521 0 1162 \n",
    "1165 1685 1983 1397 1903 1716 1971 1409 1502 1486 1697 2040 1737 1228 1833 1631 1700 1642 1438 2003 1592 1623 1632 1657 1107 1322 1140 1083 1811 1692 1162 0 \n",
    "\"\"\""
   ]
  },
  {
   "cell_type": "code",
   "execution_count": 262,
   "metadata": {},
   "outputs": [
    {
     "data": {
      "text/plain": [
       "{'0-1': 14.0, '0-2': 17.0, '0-3': 17.0, '1-2': 7.0, '1-3': 13.0, '2-3': 16.0}"
      ]
     },
     "execution_count": 262,
     "metadata": {},
     "output_type": "execute_result"
    }
   ],
   "source": [
    "D_array = input_to_D_array(ip)\n",
    "D_dict = input_to_D_dict(ip)\n",
    "D_dict"
   ]
  },
  {
   "cell_type": "code",
   "execution_count": 263,
   "metadata": {},
   "outputs": [
    {
     "name": "stdout",
     "output_type": "stream",
     "text": [
      "0->4:9.000\n",
      "1->5:2.000\n",
      "2->5:5.000\n",
      "3->4:8.000\n",
      "4->0:9.000\n",
      "4->3:8.000\n",
      "4->5:3.000\n",
      "5->1:2.000\n",
      "5->2:5.000\n",
      "5->4:3.000\n"
     ]
    }
   ],
   "source": [
    "T = NeighborJoining(D_dict)\n",
    "T = SortTree(T)\n",
    "for edge, length in T.items():\n",
    "    print(f\"{edge}:{length:.3f}\")"
   ]
  },
  {
   "cell_type": "code",
   "execution_count": null,
   "metadata": {},
   "outputs": [],
   "source": []
  }
 ],
 "metadata": {
  "kernelspec": {
   "display_name": "Python 3",
   "language": "python",
   "name": "python3"
  },
  "language_info": {
   "codemirror_mode": {
    "name": "ipython",
    "version": 3
   },
   "file_extension": ".py",
   "mimetype": "text/x-python",
   "name": "python",
   "nbconvert_exporter": "python",
   "pygments_lexer": "ipython3",
   "version": "3.7.4"
  }
 },
 "nbformat": 4,
 "nbformat_minor": 2
}
