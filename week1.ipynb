{
 "cells": [
  {
   "cell_type": "markdown",
   "metadata": {},
   "source": [
    "# Farthest First Traversal"
   ]
  },
  {
   "cell_type": "markdown",
   "metadata": {},
   "source": [
    "```python\n",
    "FarthestFirstTraversal(Data, k) \n",
    "    Centers ← the set consisting of a single randomly chosen point from Data\n",
    "    while |Centers| < k \n",
    "        DataPoint ← the point in Data maximizing d(DataPoint, Centers) \n",
    "        add DataPoint to Centers \n",
    "    return Centers \n",
    "```"
   ]
  },
  {
   "cell_type": "code",
   "execution_count": 3,
   "metadata": {},
   "outputs": [],
   "source": [
    "import numpy as np\n",
    "import copy"
   ]
  },
  {
   "cell_type": "code",
   "execution_count": 1,
   "metadata": {},
   "outputs": [],
   "source": [
    "def d(x,y):\n",
    "    sum_squares = sum([(xi-yi)**2 for xi, yi in zip(x,y)])\n",
    "    return np.sqrt(sum_squares)\n",
    "\n",
    "def ds(x,y):\n",
    "    sum_squares = sum([(xi-yi)**2 for xi, yi in zip(x,y)])\n",
    "    return sum_squares\n",
    "\n",
    "def FFT(Data,k):\n",
    "    #Farthest First Traversal\n",
    "    Data = copy.deepcopy(Data)\n",
    "    Centers = [Data.pop(0)]\n",
    "    c = 0\n",
    "    while len(Centers) < k :\n",
    "        c=+1\n",
    "        if c > k:\n",
    "            break\n",
    "        min_distance = {}\n",
    "\n",
    "        for point in Data:\n",
    "            min_d = min([d(point,center) for center in Centers])\n",
    "            min_distance[str(point)] = min_d\n",
    "\n",
    "        max_p = max(min_distance, key=min_distance.get)\n",
    "        max_p = [float(i) for i in max_p[1:-1].split(\", \")]\n",
    "\n",
    "        Centers.append(max_p)\n",
    "        Data.remove(max_p)\n",
    "    return Centers\n",
    "\n",
    "def Distortion(Data,Centers):\n",
    "    sum_ds = 0\n",
    "    for point in Data:\n",
    "        min_ds = min([ds(point,center) for center in Centers])\n",
    "        sum_ds += min_ds\n",
    "    return sum_ds/len(Data)\n",
    "\n",
    "def COF(cluster):\n",
    "    n = len(cluster)\n",
    "    return [sum(i)/n for i in zip(*cluster)]\n",
    "\n",
    "def Lloyd(Data,k):\n",
    "    Centers = Data[:k]\n",
    "    ini_distortion = Distortion(Data,Centers)\n",
    "    c = 0\n",
    "    while True:\n",
    "        c += 1\n",
    "        if c > 100:\n",
    "            break\n",
    "\n",
    "        Clusters = [[] for _ in range(k)]\n",
    "        for point in Data:\n",
    "            list_d = [d(point,center) for center in Centers]\n",
    "            min_d = min(list_d)\n",
    "            i_center = list_d.index(min_d)\n",
    "            Clusters[i_center].append(point)\n",
    "\n",
    "        Centers = [COF(cl) for cl in Clusters]\n",
    "\n",
    "        new_dist = Distortion(Data, Centers)\n",
    "        if new_dist >= ini_distortion:\n",
    "            print(Centers)\n",
    "            break\n",
    "        ini_distortion = new_dist\n",
    "    return Centers"
   ]
  },
  {
   "cell_type": "code",
   "execution_count": 3,
   "metadata": {},
   "outputs": [],
   "source": [
    "k = 3\n",
    "m = 2\n",
    "_ip = \"\"\"0.0 0.0\n",
    "5.0 5.0\n",
    "0.0 5.0\n",
    "1.0 1.0\n",
    "2.0 2.0\n",
    "3.0 3.0\n",
    "1.0 2.0\"\"\"\n",
    "_ip = _ip.strip().splitlines()"
   ]
  },
  {
   "cell_type": "code",
   "execution_count": 4,
   "metadata": {},
   "outputs": [],
   "source": [
    "# k = 5\n",
    "# m = 5\n",
    "# _ip = \"\"\"\"\"\"\n",
    "# _ip = _ip.strip().splitlines()"
   ]
  },
  {
   "cell_type": "code",
   "execution_count": 5,
   "metadata": {},
   "outputs": [],
   "source": [
    "nrows = len(_ip)\n",
    "ncols = len(_ip[0].strip().split(\" \"))"
   ]
  },
  {
   "cell_type": "code",
   "execution_count": 6,
   "metadata": {},
   "outputs": [],
   "source": [
    "Data =[]\n",
    "for row_i, line in enumerate(_ip):\n",
    "    line = line.strip().split(\" \")\n",
    "    Data.append( [float(val) for val in line])"
   ]
  },
  {
   "cell_type": "code",
   "execution_count": 7,
   "metadata": {},
   "outputs": [
    {
     "data": {
      "text/plain": [
       "[[0.0, 0.0], [5.0, 5.0], [0.0, 5.0]]"
      ]
     },
     "execution_count": 7,
     "metadata": {},
     "output_type": "execute_result"
    }
   ],
   "source": [
    "Centers = FFT(Data,k)\n",
    "Centers"
   ]
  },
  {
   "cell_type": "code",
   "execution_count": 8,
   "metadata": {
    "scrolled": true
   },
   "outputs": [
    {
     "name": "stdout",
     "output_type": "stream",
     "text": [
      "0.0 0.0\n",
      "5.0 5.0\n",
      "0.0 5.0\n"
     ]
    }
   ],
   "source": [
    "for i in Centers:\n",
    "    print(\" \".join([str(k) for k in i]))"
   ]
  },
  {
   "cell_type": "markdown",
   "metadata": {},
   "source": [
    "# Squared error distortion\n"
   ]
  },
  {
   "cell_type": "markdown",
   "metadata": {},
   "source": [
    "Distortion(Data,Centers) = (1/n) ∑all points DataPoint in Datad(DataPoint, Centers)2 .\n",
    "\n"
   ]
  },
  {
   "cell_type": "code",
   "execution_count": 9,
   "metadata": {},
   "outputs": [],
   "source": [
    "_ip = \"\"\"\n",
    "\"\"\""
   ]
  },
  {
   "cell_type": "code",
   "execution_count": 10,
   "metadata": {},
   "outputs": [
    {
     "name": "stdout",
     "output_type": "stream",
     "text": [
      "end of line\n"
     ]
    }
   ],
   "source": [
    "_ip = _ip.strip().splitlines()\n",
    "k,m = [int(i) for i in _ip.pop(0).split(\" \")]\n",
    "c = True\n",
    "Centers = []\n",
    "Data = []\n",
    "while c:\n",
    "    line = _ip.pop(0).strip()\n",
    "    if line.startswith(\"-\"):\n",
    "        c = False\n",
    "        break\n",
    "    Centers.append( [float(val) for val in line.split(\" \")])\n",
    "\n",
    "while not c:\n",
    "    try:\n",
    "        line = _ip.pop(0).strip()\n",
    "    except IndexError:\n",
    "        print(\"end of line\")\n",
    "        break\n",
    "    Data.append( [float(val) for val in line.split(\" \")])\n"
   ]
  },
  {
   "cell_type": "code",
   "execution_count": 11,
   "metadata": {},
   "outputs": [
    {
     "name": "stdout",
     "output_type": "stream",
     "text": [
      "22.28\n"
     ]
    }
   ],
   "source": [
    "distortion = Distortion(Data,Centers)\n",
    "print(round(distortion,3))"
   ]
  },
  {
   "cell_type": "code",
   "execution_count": 18,
   "metadata": {},
   "outputs": [
    {
     "data": {
      "text/plain": [
       "6.0"
      ]
     },
     "execution_count": 18,
     "metadata": {},
     "output_type": "execute_result"
    }
   ],
   "source": []
  },
  {
   "cell_type": "markdown",
   "metadata": {},
   "source": [
    "# Quiz\n"
   ]
  },
  {
   "cell_type": "code",
   "execution_count": 20,
   "metadata": {},
   "outputs": [
    {
     "name": "stdout",
     "output_type": "stream",
     "text": [
      "4.0 (4, 9)\n"
     ]
    }
   ],
   "source": [
    "Data = [(2, 6), (4, 9), (5, 7), (6, 5), (8, 3)]\n",
    "Centers = [ (4, 5), (7, 4)]\n",
    "min_distance = {}\n",
    "for point in Data:\n",
    "    min_d = min([d(point,center) for center in Centers])\n",
    "    min_distance[str(point)] = min_d\n",
    "\n",
    "max_p = max(min_distance, key=min_distance.get)\n",
    "print(min_distance[max_p], max_p)"
   ]
  },
  {
   "cell_type": "code",
   "execution_count": 21,
   "metadata": {},
   "outputs": [
    {
     "data": {
      "text/plain": [
       "6.0"
      ]
     },
     "execution_count": 21,
     "metadata": {},
     "output_type": "execute_result"
    }
   ],
   "source": [
    "Data = [ (2, 6), (4, 9), (5, 7), (6, 5), (8, 3) ]\n",
    "Centers = [(4, 5), (7, 4)]\n",
    "Distortion(Data,Centers)"
   ]
  },
  {
   "cell_type": "markdown",
   "metadata": {},
   "source": [
    "# K mean"
   ]
  },
  {
   "cell_type": "code",
   "execution_count": 85,
   "metadata": {},
   "outputs": [],
   "source": [
    "_ip = \"\"\"\"\"\"\n"
   ]
  },
  {
   "cell_type": "code",
   "execution_count": 86,
   "metadata": {},
   "outputs": [
    {
     "name": "stdout",
     "output_type": "stream",
     "text": [
      "end of line\n"
     ]
    }
   ],
   "source": [
    "_ip = _ip.strip().splitlines()\n",
    "k,m = [int(i) for i in _ip.pop(0).split(\" \")]\n",
    "Centers = []\n",
    "Data = []\n",
    "while True:\n",
    "    try:\n",
    "        line = _ip.pop(0).strip()\n",
    "    except IndexError:\n",
    "        print(\"end of line\")\n",
    "        break\n",
    "    Data.append( [float(val) for val in line.split(\" \")])"
   ]
  },
  {
   "cell_type": "code",
   "execution_count": 90,
   "metadata": {},
   "outputs": [
    {
     "name": "stdout",
     "output_type": "stream",
     "text": [
      "[[8.741747572815536, 7.36990291262136, 20.78834951456311], [4.17788944723618, 13.49246231155779, 4.9909547738693485], [6.227272727272726, 4.51473354231975, 3.4742946708463975], [5.073221757322177, 4.251046025104605, 11.917154811715479], [17.57061855670103, 5.264432989690725, 6.355670103092782], [11.529496402877696, 17.3453237410072, 9.005755395683451]]\n",
      "8.742 7.37 20.788\n",
      "4.178 13.492 4.991\n",
      "6.227 4.515 3.474\n",
      "5.073 4.251 11.917\n",
      "17.571 5.264 6.356\n",
      "11.529 17.345 9.006\n"
     ]
    }
   ],
   "source": [
    "centers = Lloyd(Data,k)\n",
    "for i in centers:\n",
    "    print(\" \".join([str(round(k,3)) for k in i]))"
   ]
  },
  {
   "cell_type": "code",
   "execution_count": 91,
   "metadata": {},
   "outputs": [
    {
     "data": {
      "text/plain": [
       "[5.0, 4.0, 6.0]"
      ]
     },
     "execution_count": 91,
     "metadata": {},
     "output_type": "execute_result"
    }
   ],
   "source": [
    "z = [(1, 3, -1), (9, 8, 14), (6, 2, 10), (4, 3, 1)]\n",
    "COF(z)"
   ]
  },
  {
   "cell_type": "code",
   "execution_count": 4,
   "metadata": {},
   "outputs": [
    {
     "data": {
      "text/plain": [
       "2.8284271247461903"
      ]
     },
     "execution_count": 4,
     "metadata": {},
     "output_type": "execute_result"
    }
   ],
   "source": [
    "d([5,2],[3,4])"
   ]
  },
  {
   "cell_type": "code",
   "execution_count": null,
   "metadata": {},
   "outputs": [],
   "source": []
  }
 ],
 "metadata": {
  "kernelspec": {
   "display_name": "Python 3",
   "language": "python",
   "name": "python3"
  },
  "language_info": {
   "codemirror_mode": {
    "name": "ipython",
    "version": 3
   },
   "file_extension": ".py",
   "mimetype": "text/x-python",
   "name": "python",
   "nbconvert_exporter": "python",
   "pygments_lexer": "ipython3",
   "version": "3.7.4"
  }
 },
 "nbformat": 4,
 "nbformat_minor": 2
}
